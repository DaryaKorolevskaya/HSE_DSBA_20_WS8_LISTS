{
  "nbformat": 4,
  "nbformat_minor": 0,
  "metadata": {
    "kernelspec": {
      "display_name": "Python 3",
      "language": "python",
      "name": "python3"
    },
    "language_info": {
      "codemirror_mode": {
        "name": "ipython",
        "version": 3
      },
      "file_extension": ".py",
      "mimetype": "text/x-python",
      "name": "python",
      "nbconvert_exporter": "python",
      "pygments_lexer": "ipython3",
      "version": "3.7.0"
    },
    "colab": {
      "name": "Workshop 8 Tasks on lists and tuples.ipynb",
      "provenance": []
    }
  },
  "cells": [
    {
      "cell_type": "markdown",
      "metadata": {
        "id": "KSY1o5J6OU3s"
      },
      "source": [
        "# Workshop 8 Tasks on lists and tuples.."
      ]
    },
    {
      "cell_type": "markdown",
      "metadata": {
        "id": "1GIPY6PFOU3v"
      },
      "source": [
        "**Task 1** Write a Python program to multiplies all the items in a list  \n",
        "**Input**:  \n",
        "2 4 6  \n",
        "  \n",
        "**Output**:  \n",
        "48"
      ]
    },
    {
      "cell_type": "markdown",
      "metadata": {
        "id": "AgzyO6eYOU3x"
      },
      "source": [
        "**Task 2** Check if lists consist of the same elements  \n",
        "**Input**:  \n",
        "1 2 3 3 2  \n",
        "3 1 3 2  \n",
        "  \n",
        "**Output**:  \n",
        "YES"
      ]
    },
    {
      "cell_type": "markdown",
      "metadata": {
        "id": "z7q_LxGVOU3y"
      },
      "source": [
        "**Task 3** Write a Python program to split a list every Nth element  \n",
        "**Input**:  \n",
        "a b c d e f g h i j k l m n  \n",
        "5  \n",
        "  \n",
        "**Output**:  \n",
        "a d g j m  \n",
        "b e h k n  \n",
        "c f i l"
      ]
    },
    {
      "cell_type": "markdown",
      "metadata": {
        "id": "VUmdq1vtOU30"
      },
      "source": [
        "**Task 4** Write a Python program to remove duplicates from a list  \n",
        "**Input**:  \n",
        "10 20 40 10 10 36 20  \n",
        "  \n",
        "**Output**:  \n",
        "10 20 40 36"
      ]
    },
    {
      "cell_type": "markdown",
      "metadata": {
        "id": "k7jwrf2kOU33"
      },
      "source": [
        "***Task 5** Write a Python program to generate all sublists of a list.  \n",
        "**Input**:  \n",
        "1 2 3  \n",
        "  \n",
        "**Output**:  \n",
        "1  \n",
        "2  \n",
        "3  \n",
        "1 2  \n",
        "1 3  \n",
        "2 3  \n",
        "1 2 3"
      ]
    },
    {
      "cell_type": "markdown",
      "metadata": {
        "id": "9m3FbuHGOU34"
      },
      "source": [
        "**Task 6** Write a Python program to replace last value of tuples in a list (you don't need to get your list via input() command - just define it in your program):  \n",
        "  \n",
        "Sample list: [(10, 20, 40), (40, 50, 60), (70, 80, 90)]  \n",
        "Expected Output: [(10, 20, 100), (40, 50, 100), (70, 80, 100)]"
      ]
    },
    {
      "cell_type": "markdown",
      "metadata": {
        "id": "CbvrhxHXOU35"
      },
      "source": [
        "**Task 7** Write a Python program to remove an empty tuple(s) from a list of tuples(you don't need to get your list via input() command - just define it in your program):  \n",
        "  \n",
        "Sample data: [(), (), ('',), ('a', 'b'), ('a', 'b', 'c'), ('d')]  \n",
        "Expected output: [('',), ('a', 'b'), ('a', 'b', 'c'), 'd']"
      ]
    }
  ]
}